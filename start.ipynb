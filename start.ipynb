{
 "cells": [
  {
   "cell_type": "code",
   "execution_count": null,
   "metadata": {},
   "outputs": [],
   "source": [
    "import pandas as pd \n",
    "import nltk\n",
    "from nltk.corpus import stopwords\n",
    "# nltk.download('stopwords')\n",
    "import re"
   ]
  },
  {
   "cell_type": "code",
   "execution_count": null,
   "metadata": {},
   "outputs": [],
   "source": [
    "from nltk.corpus import stopwords\n",
    "\n",
    "fields = ['Symbol', 'Name']\n",
    "nasdaqCompanies = pd.read_csv('nasdaq_screener_1610820464248.csv',usecols=fields)\n",
    "nasdaqCompaniesNames = nasdaqCompanies['Name'].str.lower().str.replace(r'\\b\\w\\b','').str.replace(r'[0-9]','').str.replace(r'\\.||\\&||\\$||\\#||\\-','').str.replace(r'\\s+', ' ').to_dict()\n",
    "\n",
    "# nasdaqCompanies.append(nasdaqCompaniesNames)\n"
   ]
  },
  {
   "cell_type": "code",
   "execution_count": null,
   "metadata": {},
   "outputs": [],
   "source": [
    "ourStopWords = stopwords.words('english') + ['stock', \n",
    "                              'corp', \n",
    "                              'inc', \n",
    "                              'limited', \n",
    "                              'ltd', \n",
    "                              'com', \n",
    "                              'common', \n",
    "                              'management', \n",
    "                              'capital', \n",
    "                              'llc', \n",
    "                              'group', \n",
    "                              'investors', \n",
    "                              'holdings', \n",
    "                              'holding', \n",
    "                              'consulting', \n",
    "                              'strategic', \n",
    "                              'solutions',\n",
    "                              'units', \n",
    "                              'consultants', \n",
    "                              'new', \n",
    "                              'american', \n",
    "                              'funds', \n",
    "                              'partners', \n",
    "                              'investment', \n",
    "                              'investments', \n",
    "                              'associates', \n",
    "                              'advisory', \n",
    "                              'planning',\n",
    "                              'plan', \n",
    "                              'services', \n",
    "                              'wealth', \n",
    "                              'partner',\n",
    "                             'service',\n",
    "                             'llp',\n",
    "                             'lp',\n",
    "                             'tech',\n",
    "                             'technology',\n",
    "                             'technologies',\n",
    "                             'firm',\n",
    "                             'china',\n",
    "                             'companies',\n",
    "                             'company',\n",
    "                             'securities',\n",
    "                             'security',\n",
    "                             'entertainment',\n",
    "                             'regulator',\n",
    "                             'organization',\n",
    "                             'org',\n",
    "                             'organizations',\n",
    "                             'united',\n",
    "                             'regulators',\n",
    "                             'trans',\n",
    "                             'europe',\n",
    "                             'share',\n",
    "                             'shares',\n",
    "                             'corporations',\n",
    "                             'class',\n",
    "                             'corporation',\n",
    "                             'series',\n",
    "                             'funding',\n",
    "                             'reit',\n",
    "                             'etf']\n",
    "\n"
   ]
  },
  {
   "cell_type": "code",
   "execution_count": null,
   "metadata": {
    "scrolled": true
   },
   "outputs": [],
   "source": [
    "fields = ['id', 'created_at', 'date', 'time', 'tweet', 'mentions','hashtags']\n",
    "papaMuskTweets = pd.read_csv('elonmusk.csv', usecols=fields)\n",
    "\n",
    "papaMuskTweets"
   ]
  }
 ],
 "metadata": {
  "kernelspec": {
   "display_name": "Python 3",
   "language": "python",
   "name": "python3"
  },
  "language_info": {
   "codemirror_mode": {
    "name": "ipython",
    "version": 3
   },
   "file_extension": ".py",
   "mimetype": "text/x-python",
   "name": "python",
   "nbconvert_exporter": "python",
   "pygments_lexer": "ipython3",
   "version": "3.7.4"
  }
 },
 "nbformat": 4,
 "nbformat_minor": 4
}
