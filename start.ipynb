{
 "cells": [
  {
   "cell_type": "code",
   "execution_count": 1,
   "metadata": {},
   "outputs": [],
   "source": [
    "import pandas as pd \n",
    "import nltk\n",
    "from nltk.corpus import stopwords\n",
    "# nltk.download('stopwords')\n",
    "# nltk.download('punkt')\n",
    "import re"
   ]
  },
  {
   "cell_type": "code",
   "execution_count": 2,
   "metadata": {},
   "outputs": [
    {
     "data": {
      "text/plain": [
       "list"
      ]
     },
     "execution_count": 2,
     "metadata": {},
     "output_type": "execute_result"
    }
   ],
   "source": [
    "ourStopWords = stopwords.words('english') + ['stock', \n",
    "                              'corp', \n",
    "                              'inc', \n",
    "                              'limited', \n",
    "                              'ltd', \n",
    "                              'com', \n",
    "                              'common', \n",
    "                              'management', \n",
    "                              'capital', \n",
    "                              'llc', \n",
    "                              'group', \n",
    "                              'investors', \n",
    "                              'holdings', \n",
    "                              'holding', \n",
    "                              'consulting', \n",
    "                              'strategic', \n",
    "                              'solutions',\n",
    "                              'units', \n",
    "                              'consultants', \n",
    "                              'new', \n",
    "                              'american', \n",
    "                              'funds', \n",
    "                              'partners', \n",
    "                              'investment', \n",
    "                              'investments', \n",
    "                              'associates', \n",
    "                              'advisory', \n",
    "                              'planning',\n",
    "                              'plan', \n",
    "                              'services', \n",
    "                              'wealth', \n",
    "                              'partner',\n",
    "                             'service',\n",
    "                             'llp',\n",
    "                             'lp',\n",
    "                             'tech',\n",
    "                             'technology',\n",
    "                             'technologies',\n",
    "                             'firm',\n",
    "                             'china',\n",
    "                             'companies',\n",
    "                             'company',\n",
    "                             'securities',\n",
    "                             'security',\n",
    "                             'entertainment',\n",
    "                             'regulator',\n",
    "                             'organization',\n",
    "                             'org',\n",
    "                             'organizations',\n",
    "                             'united',\n",
    "                             'regulators',\n",
    "                             'trans',\n",
    "                             'europe',\n",
    "                             'share',\n",
    "                             'shares',\n",
    "                             'corporations',\n",
    "                             'class',\n",
    "                             'corporation',\n",
    "                             'series',\n",
    "                             'funding',\n",
    "                             'reit',\n",
    "                             'etf',\n",
    "                             'lease',\n",
    "                             'due',\n",
    "                             'bank',\n",
    "                                            'banking',\n",
    "                                            'financial',\n",
    "                                            'finance',\n",
    "                                            'economy',\n",
    "                                            'dividend',\n",
    "                                            'trust',\n",
    "                                            'interest',\n",
    "                                            'america',\n",
    "                                            'acquisition',\n",
    "                                            'preferred',\n",
    "                                            'subordinated',\n",
    "                                            'notes',\n",
    "                                            'industries',\n",
    "                                            'fund',\n",
    "                                            'income',\n",
    "                                            'properties',\n",
    "                                            'tax',\n",
    "                                            'taxes',\n",
    "                                            'industry',\n",
    "                                            'beneficial']\n"
   ]
  },
  {
   "cell_type": "code",
   "execution_count": null,
   "metadata": {
    "scrolled": true
   },
   "outputs": [],
   "source": [
    "from nltk.corpus import stopwords\n",
    "\n",
    "fields = ['Symbol', 'Name']\n",
    "nasdaqCompanies = pd.read_csv('nasdaq_screener_1610820464248.csv',usecols=fields)\n",
    "nasdaqCompanyNames = nasdaqCompanies['Name'].str.lower().str.replace(r'\\b\\w\\b','').str.replace(r'[0-9]','').str.replace(r'\\.||\\&||\\$||\\#||\\-|/','').str.replace(r'\\s+', ' ').to_dict()\n",
    "# print(nasdaqCompanyNames)\n",
    "for key, companyName in nasdaqCompanyNames.items():\n",
    "    companyNameTokenized = nltk.word_tokenize(companyName)\n",
    "    strippedTokenizedCompanyNames = [w for w in companyNameTokenized if w.isalpha()]\n",
    "    meaningfulCompanyNames = [w for w in strippedTokenizedCompanyNames if not w in ourStopWords]\n",
    "    nasdaqCompanyNames[key] = \" \".join(meaningfulCompanyNames)\n",
    "    \n",
    "nasdaqCompanyNames\n"
   ]
  },
  {
   "cell_type": "code",
   "execution_count": 39,
   "metadata": {
    "scrolled": true
   },
   "outputs": [
    {
     "ename": "AttributeError",
     "evalue": "'DataFrame' object has no attribute 'iter'",
     "output_type": "error",
     "traceback": [
      "\u001b[1;31m---------------------------------------------------------------------------\u001b[0m",
      "\u001b[1;31mAttributeError\u001b[0m                            Traceback (most recent call last)",
      "\u001b[1;32m<ipython-input-39-b62cf59ff8d4>\u001b[0m in \u001b[0;36m<module>\u001b[1;34m\u001b[0m\n\u001b[0;32m      4\u001b[0m \u001b[0mpapaMusk\u001b[0m\u001b[1;33m[\u001b[0m\u001b[1;34m'tweet'\u001b[0m\u001b[1;33m]\u001b[0m \u001b[1;33m=\u001b[0m \u001b[0mpapaMusk\u001b[0m\u001b[1;33m[\u001b[0m\u001b[1;34m'tweet'\u001b[0m\u001b[1;33m]\u001b[0m\u001b[1;33m.\u001b[0m\u001b[0mstr\u001b[0m\u001b[1;33m.\u001b[0m\u001b[0mlower\u001b[0m\u001b[1;33m(\u001b[0m\u001b[1;33m)\u001b[0m\u001b[1;33m.\u001b[0m\u001b[0mstr\u001b[0m\u001b[1;33m.\u001b[0m\u001b[0mreplace\u001b[0m\u001b[1;33m(\u001b[0m\u001b[1;34mr'\\b\\w\\b'\u001b[0m\u001b[1;33m,\u001b[0m\u001b[1;34m''\u001b[0m\u001b[1;33m)\u001b[0m\u001b[1;33m.\u001b[0m\u001b[0mstr\u001b[0m\u001b[1;33m.\u001b[0m\u001b[0mreplace\u001b[0m\u001b[1;33m(\u001b[0m\u001b[1;34mr'[0-9]'\u001b[0m\u001b[1;33m,\u001b[0m\u001b[1;34m''\u001b[0m\u001b[1;33m)\u001b[0m\u001b[1;33m.\u001b[0m\u001b[0mstr\u001b[0m\u001b[1;33m.\u001b[0m\u001b[0mreplace\u001b[0m\u001b[1;33m(\u001b[0m\u001b[1;34mr'\\.||\\&||\\$||\\#||\\-|/'\u001b[0m\u001b[1;33m,\u001b[0m\u001b[1;34m''\u001b[0m\u001b[1;33m)\u001b[0m\u001b[1;33m.\u001b[0m\u001b[0mstr\u001b[0m\u001b[1;33m.\u001b[0m\u001b[0mreplace\u001b[0m\u001b[1;33m(\u001b[0m\u001b[1;34mr'\\s+'\u001b[0m\u001b[1;33m,\u001b[0m \u001b[1;34m' '\u001b[0m\u001b[1;33m)\u001b[0m\u001b[1;33m\u001b[0m\u001b[1;33m\u001b[0m\u001b[0m\n\u001b[0;32m      5\u001b[0m \u001b[1;31m# print(papaMusk.set_index('id').to_dict())\u001b[0m\u001b[1;33m\u001b[0m\u001b[1;33m\u001b[0m\u001b[1;33m\u001b[0m\u001b[0m\n\u001b[1;32m----> 6\u001b[1;33m \u001b[1;32mfor\u001b[0m \u001b[0mtweet_id\u001b[0m\u001b[1;33m,\u001b[0m \u001b[0mcreatedAt\u001b[0m\u001b[1;33m,\u001b[0m \u001b[0mdate\u001b[0m\u001b[1;33m,\u001b[0m \u001b[0mtime\u001b[0m\u001b[1;33m,\u001b[0m \u001b[0mtweet\u001b[0m\u001b[1;33m,\u001b[0m \u001b[0mmentions\u001b[0m\u001b[1;33m,\u001b[0m \u001b[0mhashtags\u001b[0m \u001b[1;32min\u001b[0m \u001b[0mpapaMusk\u001b[0m\u001b[1;33m.\u001b[0m\u001b[0miter\u001b[0m\u001b[1;33m(\u001b[0m\u001b[1;33m)\u001b[0m\u001b[1;33m:\u001b[0m\u001b[1;33m\u001b[0m\u001b[1;33m\u001b[0m\u001b[0m\n\u001b[0m\u001b[0;32m      7\u001b[0m     \u001b[0mtweetsTokenized\u001b[0m \u001b[1;33m=\u001b[0m \u001b[0mnltk\u001b[0m\u001b[1;33m.\u001b[0m\u001b[0mword_tokenize\u001b[0m\u001b[1;33m(\u001b[0m\u001b[0mtweet\u001b[0m\u001b[1;33m)\u001b[0m\u001b[1;33m\u001b[0m\u001b[1;33m\u001b[0m\u001b[0m\n\u001b[0;32m      8\u001b[0m \u001b[1;31m#     strippedTokenizeTweets = [w for w in tweetsTokenized if w.isalpha()]\u001b[0m\u001b[1;33m\u001b[0m\u001b[1;33m\u001b[0m\u001b[1;33m\u001b[0m\u001b[0m\n",
      "\u001b[1;32mC:\\ProgramData\\Anaconda3\\lib\\site-packages\\pandas\\core\\generic.py\u001b[0m in \u001b[0;36m__getattr__\u001b[1;34m(self, name)\u001b[0m\n\u001b[0;32m   5177\u001b[0m             \u001b[1;32mif\u001b[0m \u001b[0mself\u001b[0m\u001b[1;33m.\u001b[0m\u001b[0m_info_axis\u001b[0m\u001b[1;33m.\u001b[0m\u001b[0m_can_hold_identifiers_and_holds_name\u001b[0m\u001b[1;33m(\u001b[0m\u001b[0mname\u001b[0m\u001b[1;33m)\u001b[0m\u001b[1;33m:\u001b[0m\u001b[1;33m\u001b[0m\u001b[1;33m\u001b[0m\u001b[0m\n\u001b[0;32m   5178\u001b[0m                 \u001b[1;32mreturn\u001b[0m \u001b[0mself\u001b[0m\u001b[1;33m[\u001b[0m\u001b[0mname\u001b[0m\u001b[1;33m]\u001b[0m\u001b[1;33m\u001b[0m\u001b[1;33m\u001b[0m\u001b[0m\n\u001b[1;32m-> 5179\u001b[1;33m             \u001b[1;32mreturn\u001b[0m \u001b[0mobject\u001b[0m\u001b[1;33m.\u001b[0m\u001b[0m__getattribute__\u001b[0m\u001b[1;33m(\u001b[0m\u001b[0mself\u001b[0m\u001b[1;33m,\u001b[0m \u001b[0mname\u001b[0m\u001b[1;33m)\u001b[0m\u001b[1;33m\u001b[0m\u001b[1;33m\u001b[0m\u001b[0m\n\u001b[0m\u001b[0;32m   5180\u001b[0m \u001b[1;33m\u001b[0m\u001b[0m\n\u001b[0;32m   5181\u001b[0m     \u001b[1;32mdef\u001b[0m \u001b[0m__setattr__\u001b[0m\u001b[1;33m(\u001b[0m\u001b[0mself\u001b[0m\u001b[1;33m,\u001b[0m \u001b[0mname\u001b[0m\u001b[1;33m,\u001b[0m \u001b[0mvalue\u001b[0m\u001b[1;33m)\u001b[0m\u001b[1;33m:\u001b[0m\u001b[1;33m\u001b[0m\u001b[1;33m\u001b[0m\u001b[0m\n",
      "\u001b[1;31mAttributeError\u001b[0m: 'DataFrame' object has no attribute 'iter'"
     ]
    }
   ],
   "source": [
    "fields = ['id', 'created_at', 'date', 'time', 'tweet', 'mentions','hashtags']\n",
    "papaMusk = pd.read_csv('elonmusk.csv', usecols=fields)\n",
    "# type(papaMusk['tweet'].str.lower().str.replace(r'\\b\\w\\b','').str.replace(r'[0-9]','').str.replace(r'\\.||\\&||\\$||\\#||\\-|/','').str.replace(r'\\s+', ' ').to_dict())\n",
    "papaMuskTweetDict = papaMusk['tweet'].str.lower().str.replace(r'\\b\\w\\b','').str.replace(r'[0-9]','').str.replace(r'\\.||\\&||\\$||\\#||\\-|/','').str.replace(r'\\s+', ' ').to_dict()\n",
    "# print(papaMusk.set_index('id').to_dict())\n",
    "for tweet_id, createdAt, date, time, tweet, mentions, hashtags in papaMusk.iter():\n",
    "    tweetsTokenized = nltk.word_tokenize(tweet)\n",
    "#     strippedTokenizeTweets = [w for w in tweetsTokenized if w.isalpha()]\n",
    "#     meaningfulTweets = [w for w in strippedTokenizeTweets if not w in ourStopWords]\n",
    "#     papaMusk[tweet_id] =\" \".join(meaningfulTweets)\n",
    "# print(papaMusk)\n"
   ]
  },
  {
   "cell_type": "code",
   "execution_count": null,
   "metadata": {},
   "outputs": [],
   "source": []
  },
  {
   "cell_type": "code",
   "execution_count": null,
   "metadata": {},
   "outputs": [],
   "source": []
  }
 ],
 "metadata": {
  "kernelspec": {
   "display_name": "Python 3",
   "language": "python",
   "name": "python3"
  },
  "language_info": {
   "codemirror_mode": {
    "name": "ipython",
    "version": 3
   },
   "file_extension": ".py",
   "mimetype": "text/x-python",
   "name": "python",
   "nbconvert_exporter": "python",
   "pygments_lexer": "ipython3",
   "version": "3.7.4"
  }
 },
 "nbformat": 4,
 "nbformat_minor": 4
}
